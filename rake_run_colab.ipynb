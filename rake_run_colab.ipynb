{
  "nbformat": 4,
  "nbformat_minor": 0,
  "metadata": {
    "colab": {
      "name": "rake_run_colab.ipynb",
      "provenance": []
    },
    "kernelspec": {
      "name": "python3",
      "display_name": "Python 3"
    },
    "language_info": {
      "name": "python"
    }
  },
  "cells": [
    {
      "cell_type": "code",
      "metadata": {
        "id": "Ig5Tr7GrhbF2"
      },
      "source": [
        "%%capture\n",
        "!wget https://raw.githubusercontent.com/shitkov/rake/master/rake_api.py\n",
        "!wget https://raw.githubusercontent.com/shitkov/rake/master/ru_stop_dict.txt"
      ],
      "execution_count": 1,
      "outputs": []
    },
    {
      "cell_type": "code",
      "metadata": {
        "id": "GFGod_OSjHl6"
      },
      "source": [
        "from rake_api import Rake"
      ],
      "execution_count": 2,
      "outputs": []
    },
    {
      "cell_type": "code",
      "metadata": {
        "id": "9L9PLP-yjIvP"
      },
      "source": [
        "text = \"Нитрид галлия — бинарное неорганическое химическое соединение галлия и азота. Химическая формула GaN. При обычных условиях очень твёрдое вещество с кристаллической структурой типа вюрцита. Прямозонный полупроводник с широкой запрещённой зоной — 3,4 эВ (при 300 K).  Используется в качестве полупроводникового материала для изготовления оптоэлектронных приборов ультрафиолетового диапазона. Начал широко использоваться в светодиодах с 1990 года, а также мощных и высокочастотных полупроводниковых приборах. Имеет повышенную устойчивость к ионизирующему излучению (также, как и другие полупроводниковые материалы — нитриды III группы), что перспективно для создания длительно работающих солнечных батарей космических аппаратов.  Из-за того, что транзисторы из нитрида галлия могут сохранять работоспособность при более высоких температурах и напряжениях, чем транзисторы из арсенида галлия, этот материал становится всё более привлекательным для создания приборов, применяемых в усилителях мощности СВЧ.\""
      ],
      "execution_count": 3,
      "outputs": []
    },
    {
      "cell_type": "code",
      "metadata": {
        "id": "rTTcoAxQh15P"
      },
      "source": [
        "path = 'ru_stop_dict.txt'\n",
        "rake = Rake(path)\n",
        "keyphrases = rake.get_keywords(text)"
      ],
      "execution_count": 4,
      "outputs": []
    },
    {
      "cell_type": "code",
      "metadata": {
        "id": "GPyjceVOiF_f"
      },
      "source": [
        "keyphrases, _ = zip(*keyphrases[:5])"
      ],
      "execution_count": 5,
      "outputs": []
    },
    {
      "cell_type": "code",
      "metadata": {
        "colab": {
          "base_uri": "https://localhost:8080/"
        },
        "id": "yOzr62PmilGR",
        "outputId": "d55e92d4-8245-4e20-af0c-d0f19a8e740a"
      },
      "source": [
        "print(*list(keyphrases), sep = \"\\n\")"
      ],
      "execution_count": 6,
      "outputs": [
        {
          "output_type": "stream",
          "text": [
            "создания длительно работающих солнечных батарей космических аппаратов\n",
            "нитрид галлия — бинарное неорганическое химическое соединение галлия\n",
            "изготовления оптоэлектронных приборов ультрафиолетового диапазона\n",
            "кристаллической структурой типа вюрцита\n",
            "полупроводниковые материалы — нитриды iii группы\n"
          ],
          "name": "stdout"
        }
      ]
    }
  ]
}